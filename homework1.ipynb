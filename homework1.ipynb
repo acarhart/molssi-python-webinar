{
 "cells": [
  {
   "cell_type": "markdown",
   "metadata": {},
   "source": [
    "# Homework 1\n",
    "The solution to the homework for the first session."
   ]
  },
  {
   "cell_type": "code",
   "execution_count": 7,
   "metadata": {},
   "outputs": [
    {
     "data": {
      "text/plain": [
       "<function TextIOWrapper.close()>"
      ]
     },
     "execution_count": 7,
     "metadata": {},
     "output_type": "execute_result"
    }
   ],
   "source": [
    "import os\n",
    "\n",
    "# os = operating system\n",
    "# Open the file for reading\n",
    "filename = os.path.join('data', '03_prod.mdout')\n",
    "f = open(filename, 'r')\n",
    "\n",
    "# Read the data in the file\n",
    "data = f.readlines()\n",
    "f.close()\n",
    "\n",
    "# Open a file for writing\n",
    "f_write = open('Etot.txt', 'w+')\n",
    "f_write.write('Total Energy')\n",
    "# Loop through lines in the file\n",
    "for line in data:\n",
    "    split_line = line.split()\n",
    "    \n",
    "    if 'Etot' in line:\n",
    "        #print(split_line[2])\n",
    "        f_write.write(f'{split_line[2]}\\n')\n",
    "    \n",
    "#python is case sensitive so if capital must be capital\n",
    "\n",
    "# Get information from the file\n",
    "\n",
    "# Wrtie information to new file\n",
    "\n",
    "f_write.close"
   ]
  },
  {
   "cell_type": "code",
   "execution_count": null,
   "metadata": {},
   "outputs": [],
   "source": []
  }
 ],
 "metadata": {
  "kernelspec": {
   "display_name": "Python 3",
   "language": "python",
   "name": "python3"
  },
  "language_info": {
   "codemirror_mode": {
    "name": "ipython",
    "version": 3
   },
   "file_extension": ".py",
   "mimetype": "text/x-python",
   "name": "python",
   "nbconvert_exporter": "python",
   "pygments_lexer": "ipython3",
   "version": "3.7.6"
  }
 },
 "nbformat": 4,
 "nbformat_minor": 4
}
