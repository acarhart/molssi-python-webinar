{
 "cells": [
  {
   "cell_type": "markdown",
   "metadata": {},
   "source": [
    "# MolSII \n",
    "Introduction"
   ]
  },
  {
   "cell_type": "code",
   "execution_count": 1,
   "metadata": {},
   "outputs": [
    {
     "data": {
      "text/plain": [
       "10"
      ]
     },
     "execution_count": 1,
     "metadata": {},
     "output_type": "execute_result"
    }
   ],
   "source": [
    "3+7"
   ]
  },
  {
   "cell_type": "code",
   "execution_count": 2,
   "metadata": {},
   "outputs": [],
   "source": [
    "#variable_name = variable_value\n",
    "deltaH = -541.5    #KJ/mole\n",
    "deltaS = 10.4      #KJ/(mole K)\n",
    "temperature = 298  #Kelvin\n",
    "deltaG = deltaH - temperature*deltaS"
   ]
  },
  {
   "cell_type": "code",
   "execution_count": 3,
   "metadata": {},
   "outputs": [
    {
     "name": "stdout",
     "output_type": "stream",
     "text": [
      "-3640.7000000000003\n"
     ]
    }
   ],
   "source": [
    "print(deltaG)"
   ]
  },
  {
   "cell_type": "code",
   "execution_count": 4,
   "metadata": {},
   "outputs": [
    {
     "name": "stdout",
     "output_type": "stream",
     "text": [
      "-3640.7000000000003\n"
     ]
    }
   ],
   "source": [
    "deltaG*1000\n",
    "print(deltaG)"
   ]
  },
  {
   "cell_type": "code",
   "execution_count": 5,
   "metadata": {},
   "outputs": [
    {
     "name": "stdout",
     "output_type": "stream",
     "text": [
      "-3640.7000000000003\n",
      "-3640700.0000000005\n"
     ]
    }
   ],
   "source": [
    "deltaG_joules = deltaG*1000\n",
    "print(deltaG)\n",
    "print(deltaG_joules)"
   ]
  },
  {
   "cell_type": "code",
   "execution_count": 6,
   "metadata": {},
   "outputs": [],
   "source": [
    "deltaG = deltaG*1000 #gives deltaG an entire new meaning"
   ]
  },
  {
   "cell_type": "code",
   "execution_count": 7,
   "metadata": {},
   "outputs": [
    {
     "name": "stdout",
     "output_type": "stream",
     "text": [
      "-3640.7000000000003\n"
     ]
    }
   ],
   "source": [
    "deltaH, deltaS, temperature = -541.5, 10.4, 298 #same code as before just different way\n",
    "deltaG = deltaH - deltaS*temperature\n",
    "print(deltaG)"
   ]
  },
  {
   "cell_type": "code",
   "execution_count": 8,
   "metadata": {},
   "outputs": [
    {
     "data": {
      "text/plain": [
       "float"
      ]
     },
     "execution_count": 8,
     "metadata": {},
     "output_type": "execute_result"
    }
   ],
   "source": [
    "#Data type - is it number or is it a word\n",
    "type(deltaG) #what data type delta G is"
   ]
  },
  {
   "cell_type": "markdown",
   "metadata": {},
   "source": [
    "Float = a number with a bunch of decimal places"
   ]
  },
  {
   "cell_type": "code",
   "execution_count": 9,
   "metadata": {},
   "outputs": [
    {
     "data": {
      "text/plain": [
       "str"
      ]
     },
     "execution_count": 9,
     "metadata": {},
     "output_type": "execute_result"
    }
   ],
   "source": [
    "#Common data types: str (string), int \n",
    "deltaG_string = str(deltaG)\n",
    "type(deltaG_string)\n",
    "#tells you that deltaG_string is a string"
   ]
  },
  {
   "cell_type": "code",
   "execution_count": 10,
   "metadata": {},
   "outputs": [
    {
     "name": "stdout",
     "output_type": "stream",
     "text": [
      "The length of list is 4\n"
     ]
    }
   ],
   "source": [
    "#List - variable instead of having one value, has a list of values\n",
    "energy_kcal = (-13.4, -2.7, 5.4, 42.1)\n",
    "energy_length = len(energy_kcal) #length of list of energy_kcal\n",
    "print('The length of list is', energy_length) #print more descriptive information"
   ]
  },
  {
   "cell_type": "code",
   "execution_count": 11,
   "metadata": {},
   "outputs": [
    {
     "name": "stdout",
     "output_type": "stream",
     "text": [
      "-13.4\n"
     ]
    }
   ],
   "source": [
    "print(energy_kcal[0])\n",
    "#in python, indexing starts at 0 NOT one, first number of list is index 0"
   ]
  },
  {
   "cell_type": "code",
   "execution_count": 12,
   "metadata": {},
   "outputs": [
    {
     "name": "stdout",
     "output_type": "stream",
     "text": [
      "-2.7\n"
     ]
    }
   ],
   "source": [
    "print(energy_kcal[1])"
   ]
  },
  {
   "cell_type": "code",
   "execution_count": 13,
   "metadata": {},
   "outputs": [
    {
     "name": "stdout",
     "output_type": "stream",
     "text": [
      "-11.296800000000001\n"
     ]
    }
   ],
   "source": [
    "energy_kilojoules = energy_kcal[1]*4.184\n",
    "print(energy_kilojoules)"
   ]
  },
  {
   "cell_type": "code",
   "execution_count": 14,
   "metadata": {},
   "outputs": [
    {
     "name": "stdout",
     "output_type": "stream",
     "text": [
      "(-13.4, -2.7)\n"
     ]
    }
   ],
   "source": [
    "#Taking a slice - new list that is a subset of an old list\n",
    "#new_list = list_name[start:end] \n",
    "#starts at start goes up to but not including 'end'\n",
    "#start = starting index (number) same with 'end'\n",
    "short_list = energy_kcal[0:2]\n",
    "#starts at element 0, goes through element 1\n",
    "print(short_list)"
   ]
  },
  {
   "cell_type": "code",
   "execution_count": 15,
   "metadata": {},
   "outputs": [
    {
     "name": "stdout",
     "output_type": "stream",
     "text": [
      "slice1 is (-2.7, 5.4, 42.1)\n",
      "slice2 is (-13.4, -2.7, 5.4)\n"
     ]
    }
   ],
   "source": [
    "slice1 = energy_kcal[1:] #index 1 (not first number) to the end\n",
    "slice2 = energy_kcal[:3] #index 0, index 1, and index 2\n",
    "print('slice1 is', slice1)\n",
    "print('slice2 is', slice2)"
   ]
  },
  {
   "cell_type": "code",
   "execution_count": 16,
   "metadata": {},
   "outputs": [
    {
     "name": "stdout",
     "output_type": "stream",
     "text": [
      "(-13.4, -2.7, 5.4, 42.1)\n",
      "(-13.4, -2.7)\n"
     ]
    }
   ],
   "source": [
    "energy_kcal[0:2]\n",
    "print(energy_kcal)\n",
    "print(short_list) #indeces 0 to 2"
   ]
  },
  {
   "cell_type": "code",
   "execution_count": 17,
   "metadata": {},
   "outputs": [
    {
     "name": "stdout",
     "output_type": "stream",
     "text": [
      "-56.0656\n",
      "-11.296800000000001\n",
      "22.593600000000002\n",
      "176.1464\n"
     ]
    }
   ],
   "source": [
    "# for loop - do some kind of operation of every element of the list\n",
    "#for variable in list: goes through all 'varaibles' in list, can be any word\n",
    "#    do things with variable\n",
    "#colon means jupter notebook will ident for you on the next line\n",
    "#indentation signals what's in and out of for loop\n",
    "for number in energy_kcal:\n",
    "    KJ = number*4.184\n",
    "    print(KJ)"
   ]
  },
  {
   "cell_type": "code",
   "execution_count": 18,
   "metadata": {},
   "outputs": [],
   "source": [
    "#save values to a new list:\n",
    "#list_name.append(new_thing)\n",
    "energy_KJ = []\n",
    "\n",
    "for number in energy_kcal:\n",
    "    KJ = number*4.184\n",
    "    energy_KJ.append(KJ)"
   ]
  },
  {
   "cell_type": "code",
   "execution_count": 19,
   "metadata": {},
   "outputs": [
    {
     "name": "stdout",
     "output_type": "stream",
     "text": [
      "[-56.0656, -11.296800000000001, 22.593600000000002, 176.1464]\n"
     ]
    }
   ],
   "source": [
    "print(energy_KJ)"
   ]
  },
  {
   "cell_type": "code",
   "execution_count": 20,
   "metadata": {},
   "outputs": [
    {
     "name": "stdout",
     "output_type": "stream",
     "text": [
      "[-13.4, -2.7]\n"
     ]
    }
   ],
   "source": [
    "negative_energy = []\n",
    "\n",
    "for number in energy_kcal:\n",
    "    if number<0:\n",
    "        negative_energy.append(number)\n",
    "print(negative_energy)        "
   ]
  },
  {
   "cell_type": "markdown",
   "metadata": {},
   "source": [
    "!= is not equal\n",
    "== is equal to\n",
    "'and', 'or', and 'not' = combination words"
   ]
  },
  {
   "cell_type": "markdown",
   "metadata": {},
   "source": [
    "To find most important info in an output file:\n",
    "write a script/program to read in output file from calculation, sort through and pull out pieces of information"
   ]
  }
 ],
 "metadata": {
  "kernelspec": {
   "display_name": "Python 3",
   "language": "python",
   "name": "python3"
  },
  "language_info": {
   "codemirror_mode": {
    "name": "ipython",
    "version": 3
   },
   "file_extension": ".py",
   "mimetype": "text/x-python",
   "name": "python",
   "nbconvert_exporter": "python",
   "pygments_lexer": "ipython3",
   "version": "3.7.6"
  }
 },
 "nbformat": 4,
 "nbformat_minor": 4
}
